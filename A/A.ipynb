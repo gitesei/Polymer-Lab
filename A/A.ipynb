{
 "cells": [
  {
   "cell_type": "markdown",
   "metadata": {},
   "source": [
    "# A. Net interactions in a solution containing free (ungrafted) polymers.\n",
    "We will here limit ourselves to the case of theta solvents, and utilize the standard ideal polymer model, in which the monomers are point-like, i.e they do not interact with each other (but they are still excluded from the surfaces). Run calculations with various choices for the polymer length. Plot monomer density distributions at some chosen separations, and comment upon the results. Also compare the free energy, and net pressure curves that you obtain for different polymer lengths. Limit the degree of polymerization ($r$) to $3 < r < 1000$. Also limit the investigated separations ($h$) to $3 < h < 500$ (where we use the bond length as length unit). Also plot a few free energy curves, with various polymer lengths, but use radius of gyration, rather than bond length, on the $x$-axis. Discuss the results. Note that the the bulk monomer concentration is fixed (by the code). How would the free energy curves change if you had (say) doubled the bulk density? \n",
    "0.\tSpecifically plot a free energy curve for 601-mers, and verify that you obtain the same results (with bond lengths on the $x$-axis) as in the \"polydispersity comparison graph\" that you have been given. Discuss and interpret these results, i.e. how and why the interactions differ when the solution contains polydisperse polymers.\n",
    "0.\tUsing the Derjaguin Approximation, the net force, $F$, between (large) spherical particles of radius R, can be etimated from the net free energy per unit area between flat surfaces, $\\Delta g_S$, as $F = R\\pi\\Delta g_S$. How would you obtain the net interaction free energy, $W$, between such particles? If we neglect other (non polymer-mediated) interactions, make a qualitative comparison between the second virial coefficients ($B_{22}$) for particles in monodisperse and polydisperse polymer solutions. In other words, in which case would you expect a more attractive $B_{22}$?\n"
   ]
  },
  {
   "cell_type": "code",
   "execution_count": null,
   "metadata": {},
   "outputs": [],
   "source": [
    "from __future__ import division, unicode_literals, print_function\n",
    "import matplotlib as mpl\n",
    "import matplotlib.pyplot as plt\n",
    "%matplotlib inline\n",
    "import numpy as np\n",
    "import os.path, os, sys\n",
    "plt.rcParams.update({'font.size': 18, 'figure.figsize': [8.0, 6], \n",
    "                     'xtick.major.size':6, 'ytick.major.size':6, \n",
    "                     'xtick.direction':'out','ytick.direction':'out'})\n",
    "workdir=%pwd\n",
    "print(workdir)"
   ]
  },
  {
   "cell_type": "markdown",
   "metadata": {},
   "source": [
    "### Compile Fortran code `tid.f`"
   ]
  },
  {
   "cell_type": "code",
   "execution_count": null,
   "metadata": {},
   "outputs": [],
   "source": [
    "%%bash -s \"$workdir\"\n",
    "cd $1\n",
    "if [ -z \"$CONDA_DIR\" ]; then\n",
    "    gfortran -Wl,-rpath,${CONDA_PREFIX}/lib -O3 -o free.run tid.f\n",
    "    exit 1\n",
    "else \n",
    "    gfortran -Wl,-rpath,${CONDA_DIR}/lib -O3 -o free.run tid.f\n",
    "fi"
   ]
  },
  {
   "cell_type": "markdown",
   "metadata": {},
   "source": [
    "### Generate `input` file"
   ]
  },
  {
   "cell_type": "code",
   "execution_count": null,
   "metadata": {},
   "outputs": [],
   "source": [
    "n_monomers = 400 # number of monomers / polymer\n",
    "sep_start  = 4   # separation start\n",
    "delta      = 1    # delta(separation)\n",
    "n_sep      = 30  # number of separations\n",
    "INPUT = \"\"\"number of monomers / polymer:\n",
    "%d\n",
    "separation start, delta(separation), number of separations:\n",
    "%d        %d        %d\n",
    "\"\"\"\n",
    "\n",
    "INPUT = INPUT % (n_monomers, sep_start, delta, n_sep)\n",
    "file_handle = open('input', 'w')\n",
    "file_handle.write(INPUT)\n",
    "file_handle.close()"
   ]
  },
  {
   "cell_type": "markdown",
   "metadata": {},
   "source": [
    "### Run program"
   ]
  },
  {
   "cell_type": "code",
   "execution_count": null,
   "metadata": {},
   "outputs": [],
   "source": [
    "exe='./free.run'\n",
    "if ( os.access( exe, os.X_OK )):\n",
    "    !./free.run"
   ]
  },
  {
   "cell_type": "markdown",
   "metadata": {},
   "source": [
    "### Plot output"
   ]
  },
  {
   "cell_type": "code",
   "execution_count": null,
   "metadata": {},
   "outputs": [],
   "source": [
    "r,rho,rho_n = np.loadtxt('densitydistribution', unpack=True)\n",
    "plt.plot(r, rho, lw=3,color='r')\n",
    "plt.title('Density Distribution')\n",
    "#plt.legend(frameon=False)\n",
    "#plt.ylim(0,.1)\n",
    "plt.ylabel(r'$\\rho$')\n",
    "plt.xlabel('$r$')\n",
    "plt.savefig('fig1.pdf')\n",
    "plt.show()"
   ]
  },
  {
   "cell_type": "code",
   "execution_count": null,
   "metadata": {},
   "outputs": [],
   "source": [
    "h,f,f1 = np.loadtxt('Fh', unpack=True)\n",
    "plt.plot(h, f,lw=3,color='r')\n",
    "plt.title('Free Energy')\n",
    "#plt.legend(frameon=False)\n",
    "#plt.ylim(0,.1)\n",
    "plt.ylabel(r'$F(h)$')\n",
    "plt.xlabel('$h$')\n",
    "plt.show()"
   ]
  },
  {
   "cell_type": "code",
   "execution_count": null,
   "metadata": {},
   "outputs": [],
   "source": [
    "h,p,p1 = np.loadtxt('Ph', unpack=True)\n",
    "plt.plot(h, p,lw=3,color='r')\n",
    "plt.title('Pressure')\n",
    "#plt.legend(frameon=False)\n",
    "#plt.ylim(0,.1)\n",
    "plt.ylabel(r'$P(h)$')\n",
    "plt.xlabel('$h$')\n",
    "plt.show()"
   ]
  },
  {
   "cell_type": "markdown",
   "metadata": {
    "collapsed": true
   },
   "source": [
    "### Example of loop"
   ]
  },
  {
   "cell_type": "code",
   "execution_count": null,
   "metadata": {},
   "outputs": [],
   "source": [
    "for n_monomers,c in zip([10,100,1000],['red','blue','green']):#np.arange(1000,2100,1000):\n",
    "    sep_start  = 10   # separation start\n",
    "    delta      = 1    # delta(separation)\n",
    "    n_sep      = 100  # number of separations\n",
    "    INPUT = \"\"\"number of monomers / polymer:\n",
    "%d\n",
    "separation start, delta(separation), number of separations:\n",
    "%d        %d        %d\n",
    "\"\"\"\n",
    "\n",
    "    INPUT = INPUT % (n_monomers, sep_start, delta, n_sep)\n",
    "    file_handle = open('input', 'w')\n",
    "    file_handle.write(INPUT)\n",
    "    file_handle.close()\n",
    "    exe='./free.run'\n",
    "    if ( os.access( exe, os.X_OK )):\n",
    "        !./free.run > out.log\n",
    "        \n",
    "    r,rho,rho_n = np.loadtxt('densitydistribution', unpack=True)\n",
    "    plt.plot(r, rho, lw=3,color=c,label=str(n_monomers)+' monomers')\n",
    "    plt.title('Density Distribution')\n",
    "    plt.ylabel(r'$\\rho$')\n",
    "    plt.xlabel('$r$')\n",
    "    plt.legend(frameon=False)\n",
    "plt.show()"
   ]
  }
 ],
 "metadata": {
  "kernelspec": {
   "display_name": "Python 3",
   "language": "python",
   "name": "python3"
  },
  "language_info": {
   "codemirror_mode": {
    "name": "ipython",
    "version": 3
   },
   "file_extension": ".py",
   "mimetype": "text/x-python",
   "name": "python",
   "nbconvert_exporter": "python",
   "pygments_lexer": "ipython3",
   "version": "3.6.5"
  }
 },
 "nbformat": 4,
 "nbformat_minor": 1
}
