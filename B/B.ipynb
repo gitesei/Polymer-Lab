{
 "cells": [
  {
   "cell_type": "markdown",
   "metadata": {},
   "source": [
    "# B. Interactions between polymer grafted surfaces.\n",
    "Also in this case, the polymers are assumed to be ideal. However, you will also receive results obtained with a good solvent, as modelled by hard-sphere monomers. \n",
    "Use the same \"$h$ and $r$\" limitations as above ($3 < r < 1000$; $3 < h < 500$).<br>\n",
    "Plot density profiles, free energy curves, and pressure curves, for some chosen polymer lengths and grafting densities. Discuss the results.<br>\n",
    "Specifically plot a free energy curve for 100-mers, with a reduced grafting density of 0.1, and verify that you obtain the same results as in the \"solvent comparison interaction free energy graph\" that you have been given.<br>\n",
    "Also plot the density profile, at h = 100 (bond lengths) and compare with the provided \"solvent comparison density profile graph\".<br>\n",
    "Sketch, directly in that graph, how the density profile in a good solvent would look (roughly) had the surface grafting density been half as high. How would you expect that interaction free energy curve would change if the surface were attractive to the monomers?\n"
   ]
  },
  {
   "cell_type": "code",
   "execution_count": null,
   "metadata": {},
   "outputs": [],
   "source": [
    "from __future__ import division, unicode_literals, print_function\n",
    "import matplotlib as mpl\n",
    "import matplotlib.pyplot as plt\n",
    "%matplotlib inline\n",
    "import numpy as np\n",
    "import os.path, os, sys\n",
    "plt.rcParams.update({'font.size': 18, 'figure.figsize': [8.0, 6], \n",
    "                     'xtick.major.size':6, 'ytick.major.size':6, \n",
    "                     'xtick.direction':'out','ytick.direction':'out'})\n",
    "workdir=%pwd\n",
    "print(workdir)"
   ]
  },
  {
   "cell_type": "code",
   "execution_count": null,
   "metadata": {},
   "outputs": [],
   "source": [
    "!echo $CONDA_PREFIX"
   ]
  },
  {
   "cell_type": "markdown",
   "metadata": {},
   "source": [
    "### Compile Fortran code `thetasolv.f`"
   ]
  },
  {
   "cell_type": "code",
   "execution_count": null,
   "metadata": {},
   "outputs": [],
   "source": [
    "%%bash -s \"$workdir\"\n",
    "cd $1\n",
    "gfortran -Wl,-rpath,${CONDA_PREFIX}/lib -O3 -o  grafted.run thetasolv.f"
   ]
  },
  {
   "cell_type": "markdown",
   "metadata": {},
   "source": [
    "### Generate `input` file"
   ]
  },
  {
   "cell_type": "code",
   "execution_count": null,
   "metadata": {},
   "outputs": [],
   "source": [
    "n_monomers = 100  # number of monomers / polymer\n",
    "graft_dens = 1    # reduced grafting densit\n",
    "sep_start  = 10   # separation start\n",
    "delta      = 1    # delta(separation)\n",
    "n_sep      = 300  # number of separations\n",
    "INPUT = \"\"\"number of monomers / polymer:\n",
    "%d\n",
    "reduced grafting density:\n",
    "%d\n",
    "separation start, delta(separation), number of separations:\n",
    "%d        %d        %d \n",
    "\"\"\"\n",
    "\n",
    "INPUT = INPUT % (n_monomers, graft_dens, sep_start, delta, n_sep)\n",
    "file_handle = open('input', 'w')\n",
    "file_handle.write(INPUT)\n",
    "file_handle.close()"
   ]
  },
  {
   "cell_type": "markdown",
   "metadata": {},
   "source": [
    "### Run program"
   ]
  },
  {
   "cell_type": "code",
   "execution_count": null,
   "metadata": {},
   "outputs": [],
   "source": [
    "exe='./grafted.run'\n",
    "if ( os.access( exe, os.X_OK )):\n",
    "    print('run')\n",
    "    !./grafted.run"
   ]
  },
  {
   "cell_type": "markdown",
   "metadata": {},
   "source": [
    "### Plot output"
   ]
  },
  {
   "cell_type": "code",
   "execution_count": null,
   "metadata": {},
   "outputs": [],
   "source": [
    "r,rho,rho1,rho2 = np.loadtxt('densitydistribution', unpack=True, dtype='f16')\n",
    "plt.plot(r, rho, lw=3,color='r')\n",
    "plt.title('Density Distribution')\n",
    "#plt.legend(frameon=False)\n",
    "#plt.ylim(0,.1)\n",
    "plt.ylabel(r'$\\rho$')\n",
    "plt.xlabel('$r$')\n",
    "plt.savefig('fig1.pdf')\n",
    "plt.show()"
   ]
  },
  {
   "cell_type": "code",
   "execution_count": null,
   "metadata": {},
   "outputs": [],
   "source": [
    "h,f,f1 = np.loadtxt('Fh', unpack=True)\n",
    "plt.plot(h, f,lw=3,color='r')\n",
    "plt.title('Free Energy')\n",
    "#plt.legend(frameon=False)\n",
    "#plt.ylim(0,.1)\n",
    "plt.ylabel(r'$F(h)$')\n",
    "plt.xlabel('$h$')\n",
    "plt.show()"
   ]
  },
  {
   "cell_type": "code",
   "execution_count": null,
   "metadata": {},
   "outputs": [],
   "source": [
    "h,p,p1 = np.loadtxt('Ph', unpack=True)\n",
    "plt.plot(h, p,lw=3,color='r')\n",
    "plt.title('Pressure')\n",
    "#plt.legend(frameon=False)\n",
    "#plt.ylim(0,.1)\n",
    "plt.ylabel(r'$P(h)$')\n",
    "plt.xlabel('$h$')\n",
    "plt.show()"
   ]
  },
  {
   "cell_type": "markdown",
   "metadata": {
    "collapsed": true
   },
   "source": [
    "### Example of loop"
   ]
  },
  {
   "cell_type": "code",
   "execution_count": null,
   "metadata": {},
   "outputs": [],
   "source": [
    "for n_monomers,c in zip([10,50,100],['red','blue','green']):#np.arange(1000,2100,1000):\n",
    "    graft_dens = 1    # reduced grafting densit\n",
    "    sep_start  = 10   # separation start\n",
    "    delta      = 1    # delta(separation)\n",
    "    n_sep      = 300  # number of separations\n",
    "    INPUT = \"\"\"number of monomers / polymer:\n",
    "%d\n",
    "reduced grafting density:\n",
    "%d\n",
    "separation start, delta(separation), number of separations:\n",
    "%d        %d        %d \n",
    "\"\"\"\n",
    "\n",
    "    INPUT = INPUT % (n_monomers, graft_dens, sep_start, delta, n_sep)\n",
    "    file_handle = open('input', 'w')\n",
    "    file_handle.write(INPUT)\n",
    "    file_handle.close()\n",
    "    exe='./grafted.run'\n",
    "    if ( os.access( exe, os.X_OK )):\n",
    "        !./grafted.run > out.log\n",
    "        \n",
    "    r,rho,rho1,rho2 = np.loadtxt('densitydistribution', unpack=True)\n",
    "    plt.plot(r, rho, lw=3,color=c,label=str(n_monomers)+' monomers')\n",
    "    plt.title('Density Distribution')\n",
    "    plt.ylabel(r'$\\rho$')\n",
    "    plt.xlabel('$r$')\n",
    "    plt.legend(frameon=False)\n",
    "plt.show()"
   ]
  }
 ],
 "metadata": {
  "kernelspec": {
   "display_name": "Python 3",
   "language": "python",
   "name": "python3"
  },
  "language_info": {
   "codemirror_mode": {
    "name": "ipython",
    "version": 3
   },
   "file_extension": ".py",
   "mimetype": "text/x-python",
   "name": "python",
   "nbconvert_exporter": "python",
   "pygments_lexer": "ipython3",
   "version": "3.6.5"
  }
 },
 "nbformat": 4,
 "nbformat_minor": 1
}
